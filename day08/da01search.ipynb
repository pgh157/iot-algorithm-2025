{
 "cells": [
  {
   "cell_type": "markdown",
   "metadata": {},
   "source": [
    "### 검색 알고리즘\n",
    "- 데이터에서 해당 요소가 있는지 찾는 것\n",
    "\n",
    "#### 종류\n",
    "1. 순차\n",
    "2. 이긴\n",
    "3. 트리"
   ]
  },
  {
   "cell_type": "code",
   "execution_count": null,
   "metadata": {},
   "outputs": [],
   "source": [
    "# 순차검색 함수정의 \n",
    "def seqSearch(ary, data):\n",
    "    pos = -1 # 아무것도 찾이 않았다 \n",
    "    size = len(ary)\n",
    "    \n",
    "    print('## 비교한 데이터 ==>', end='')\n",
    "    for i in range(size):\n",
    "        print(ary[i], end=' ')\n",
    "        if ary[i] == data:\n",
    "            pos = i # 내가 찾는 데이터가 이 인덱스에 있다\n",
    "            break\n",
    "        elif ary[i] > data: # 정렬된 데이터에선 더이상 검색할 이유가 없음 최적화\n",
    "            break\n",
    "\n",
    "    print()\n",
    "    return pos"
   ]
  },
  {
   "cell_type": "code",
   "execution_count": 29,
   "metadata": {},
   "outputs": [
    {
     "name": "stdout",
     "output_type": "stream",
     "text": [
      "배열 -> [50, 105, 120, 150, 162, 168, 177, 188]\n",
      "## 비교한 데이터 ==>50 \n",
      "50 / 0에 존재\n"
     ]
    }
   ],
   "source": [
    "# 변수 선언\n",
    "dataAry = [188, 150, 168, 162, 105, 120, 177, 50]\n",
    "dataAry.sort()\n",
    "findData = int(input('찾을 값을 입력하세요(숫자) >'))\n",
    "\n",
    "print(f'배열 -> {dataAry}')\n",
    "pos = seqSearch(dataAry, findData) # pos 는 위에있는 pos랑 다름 전역변수 설정globla을 안하면 다른거임\n",
    "if pos == -1 :\n",
    "    print(f'{findData}은 없음')\n",
    "else:\n",
    "    print(f'{findData} / {pos}에 존재')"
   ]
  },
  {
   "cell_type": "markdown",
   "metadata": {},
   "source": [
    "- 정렬된 데이터 검색"
   ]
  },
  {
   "cell_type": "code",
   "execution_count": null,
   "metadata": {},
   "outputs": [
    {
     "name": "stdout",
     "output_type": "stream",
     "text": [
      "배열 -> [188, 150, 168, 162, 105, 120, 177, 50]\n",
      "## 비교한 데이터 ==>188\n",
      "50은 없음\n"
     ]
    }
   ],
   "source": [
    "# 변수 선언\n",
    "dataAry = [188, 150, 168, 162, 105, 120, 177, 50]\n",
    "findData = int(input('찾을 값을 입력하세요(숫자) >'))\n",
    "\n",
    "print(f'배열 -> {dataAry}')\n",
    "pos = seqSearch(dataAry, findData) # pos 는 위에있는 pos랑 다름 전역변수 설정globla을 안하면 다른거임\n",
    "if pos == -1 :\n",
    "    print(f'{findData}은 없음')\n",
    "else:\n",
    "    print(f'{findData} / {pos}에 존재')"
   ]
  },
  {
   "cell_type": "markdown",
   "metadata": {},
   "source": [
    "- 이진검색"
   ]
  },
  {
   "cell_type": "code",
   "execution_count": 4,
   "metadata": {},
   "outputs": [],
   "source": [
    "# 이진 검색 함수정의 \n",
    "def binSearch(ary, data):\n",
    "    pos  = -1\n",
    "    start = 0\n",
    "    end = len(ary) - 1 # 리스트 마지막 인덱스\n",
    "\n",
    "    while(start <= end):\n",
    "        mid = (start + end) //2 \n",
    "        if data == ary[mid]:\n",
    "            return mid\n",
    "        elif data > ary[mid]:\n",
    "            start = mid + 1  # 뒤쪽에 데이터가 있다\n",
    "        else:\n",
    "            end = mid -1 # 압쪽에 데이터가 있다\n",
    "\n",
    "    return pos"
   ]
  },
  {
   "cell_type": "code",
   "execution_count": null,
   "metadata": {},
   "outputs": [],
   "source": [
    "# 변수 선언\n",
    "dataAry = [50, 60, 105, 120, 150, 160, 168, 177, 188]\n",
    "findData = int(input('찾을 값을 입력하세요(숫자) >'))\n",
    "\n",
    "print(f'배열 -> {dataAry}')\n",
    "pos = seqSearch(dataAry, findData) # pos 는 위에있는 pos랑 다름 전역변수 설정globla을 안하면 다른거임\n",
    "if pos == -1 :\n",
    "    print(f'{findData}은 없음')\n",
    "else:\n",
    "    print(f'{findData} / {pos}에 존재')"
   ]
  },
  {
   "cell_type": "code",
   "execution_count": 42,
   "metadata": {},
   "outputs": [
    {
     "name": "stdout",
     "output_type": "stream",
     "text": [
      "# 책장의 도서 ==>  [['어린왕자', '생떽쥐베리'], ['이방인', '까뮈'], ['부활', '톨스토이'], ['신곡', '단테'], ['돈키호테', '세르반테스'], ['동물농장', '조지오웰'], ['데미안', '헤르만헤세'], ['파우스트', '괴테'], ['대지', '펄벅']]\n",
      "# 도서명 색인표 ==> [('대지', 8), ('데미안', 6), ('돈키호테', 4), ('동물농장', 5), ('부활', 2), ('신곡', 3), ('어린왕자', 0), ('이방인', 1), ('파우스트', 7)]\n",
      "# 작가명 색인표 ==> [('괴테', 7), ('까뮈', 1), ('단테', 3), ('생떽쥐베리', 0), ('세르반테스', 4), ('조지오웰', 5), ('톨스토이', 2), ('펄벅', 8), ('헤르만헤세', 6)]\n",
      "괴테 의도서는 파우스트 입니다.\n"
     ]
    }
   ],
   "source": [
    "# 이진트리 검색\n",
    "\n",
    "from operator import itemgetter\n",
    "\n",
    "## 클래스와 함수 선언 부분 ##\n",
    "def makeIndex(ary, pos):\n",
    "    beforeAry = []\n",
    "    index = 0\n",
    "\n",
    "    for data in ary:\n",
    "        beforeAry.append((data[pos], index))\n",
    "        index += 1\n",
    "\n",
    "    sortedAry = sorted(beforeAry, key =itemgetter(0))\n",
    "    return sortedAry\n",
    "\n",
    "def bookSearch(ary,fData):\n",
    "    pos = -1\n",
    "    start = 0 \n",
    "    end = len(ary) - 1\n",
    "\n",
    "    while(start <= end):\n",
    "        mid = (start + end) // 2\n",
    "        if fData == ary[mid][0] :\n",
    "            return ary[mid][1]\n",
    "        elif fData > ary[mid][0]:\n",
    "            start = mid + 1 \n",
    "        else:\n",
    "            end = mid - 1\n",
    "\n",
    "    return pos \n",
    "\n",
    "## 전역변수 선언부분 \n",
    "\n",
    "bookAry = [['어린왕자','생떽쥐베리'],['이방인','까뮈'],['부활', '톨스토이'],\n",
    "           ['신곡','단테'],['돈키호테', '세르반테스'], ['동물농장','조지오웰'],\n",
    "           ['데미안','헤르만헤세'],['파우스트','괴테'],['대지','펄벅']]\n",
    "nameIndex = []\n",
    "authIndex = []\n",
    "\n",
    "# 메인 코드 부분\n",
    "print('# 책장의 도서 ==> ', bookAry)\n",
    "nameIndex = makeIndex(bookAry, 0)\n",
    "print('# 도서명 색인표 ==>', nameIndex)\n",
    "authIndex = makeIndex(bookAry, 1)\n",
    "print('# 작가명 색인표 ==>', authIndex)\n",
    "\n",
    "findName = input(\"입력 > \")\n",
    "findPos = bookSearch(authIndex, findName)\n",
    "if findPos != -1 :\n",
    "    print(findName, '의도서는', bookAry[findPos][0],'입니다.') \n",
    "else:\n",
    "    print(findName,'작가는없습니다.')"
   ]
  },
  {
   "cell_type": "code",
   "execution_count": null,
   "metadata": {},
   "outputs": [],
   "source": []
  }
 ],
 "metadata": {
  "kernelspec": {
   "display_name": "Python 3",
   "language": "python",
   "name": "python3"
  },
  "language_info": {
   "codemirror_mode": {
    "name": "ipython",
    "version": 3
   },
   "file_extension": ".py",
   "mimetype": "text/x-python",
   "name": "python",
   "nbconvert_exporter": "python",
   "pygments_lexer": "ipython3",
   "version": "3.11.9"
  }
 },
 "nbformat": 4,
 "nbformat_minor": 2
}
