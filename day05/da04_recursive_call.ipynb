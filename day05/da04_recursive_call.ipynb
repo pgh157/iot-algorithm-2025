{
 "cells": [
  {
   "cell_type": "markdown",
   "metadata": {},
   "source": [
    "### 재귀호출 Recursive Call\n",
    "\n",
    "<img src = \"https://dojang.io/pluginfile.php/13846/mod_page/content/3/031001.png\" width=\"600\">\n",
    "\n",
    "- 자기자신을 다시 호출하는 함수 호출 방법\n",
    "    - 장점 : 코드를 아주 짧게 작성. 수학적 방법이라 쉽게 이해\n",
    "    - 단점 : 디버깅 어렵다. 수학 못하면 이해가 어렵다. 속도저하!"
   ]
  },
  {
   "cell_type": "code",
   "execution_count": null,
   "metadata": {},
   "outputs": [],
   "source": [
    "count = 0\n",
    "def openBox():\n",
    "    global count\n",
    "    print(f\"상자를 엽니다.{count}\")\n",
    "    count +=1\n",
    "    openBox() # 재귀호출\n",
    "\n",
    "openBox()"
   ]
  },
  {
   "cell_type": "markdown",
   "metadata": {},
   "source": [
    "- 위의 코드 실행시 count가 2969 정도 되면 아래 예외발생\n",
    "    - RecursionError: maximum recursion depth exceeded while calling a Python object\n",
    "    - 파이썬에서는 무한 재귀호출을 방지"
   ]
  },
  {
   "cell_type": "code",
   "execution_count": 9,
   "metadata": {},
   "outputs": [
    {
     "name": "stdout",
     "output_type": "stream",
     "text": [
      "상자를 엽니다.5\n",
      "상자를 엽니다.4\n",
      "상자를 엽니다.3\n",
      "상자를 엽니다.2\n",
      "상자를 엽니다.1\n",
      "반지를 넣고 반환\n",
      "상자를 닫습니다\n",
      "상자를 닫습니다\n",
      "상자를 닫습니다\n",
      "상자를 닫습니다\n"
     ]
    }
   ],
   "source": [
    "count = 5\n",
    "def openBox2():\n",
    "    global count\n",
    "    print(f\"상자를 엽니다.{count}\")\n",
    "    count -= 1\n",
    "    if count == 0:\n",
    "        print(\"반지를 넣고 반환\")\n",
    "        return\n",
    "    openBox2() # 재귀호출\n",
    "    print(\"상자를 닫습니다\")\n",
    "    return\n",
    "openBox2()"
   ]
  },
  {
   "cell_type": "markdown",
   "metadata": {},
   "source": [
    "- 점화식\n",
    "    - S(n) = n + S(n-1)\n",
    "    - F(n) = n * F(n-1)"
   ]
  },
  {
   "cell_type": "markdown",
   "metadata": {},
   "source": [
    "- 리커시브를 안쓰면"
   ]
  },
  {
   "cell_type": "code",
   "execution_count": 10,
   "metadata": {},
   "outputs": [
    {
     "data": {
      "text/plain": [
       "55"
      ]
     },
     "execution_count": 10,
     "metadata": {},
     "output_type": "execute_result"
    }
   ],
   "source": [
    "sum = 0\n",
    "for i in range(10, 0,-1):\n",
    "    sum += i\n",
    "\n",
    "sum"
   ]
  },
  {
   "cell_type": "markdown",
   "metadata": {},
   "source": [
    "- 재귀호출"
   ]
  },
  {
   "cell_type": "code",
   "execution_count": 11,
   "metadata": {},
   "outputs": [
    {
     "data": {
      "text/plain": [
       "55"
      ]
     },
     "execution_count": 11,
     "metadata": {},
     "output_type": "execute_result"
    }
   ],
   "source": [
    "sum = 0\n",
    "def S(n):\n",
    "    if n ==1 : return 1\n",
    "    return n + S(n-1)\n",
    "S(10)"
   ]
  },
  {
   "cell_type": "markdown",
   "metadata": {},
   "source": [
    "#### 팩토리얼\n",
    "- S(n) 과 차이는 연산자 +, *\n",
    "- 반복문으로 팩토리얼 구현(max: 1558)"
   ]
  },
  {
   "cell_type": "code",
   "execution_count": 15,
   "metadata": {},
   "outputs": [
    {
     "name": "stdout",
     "output_type": "stream",
     "text": [
      "10! = 3628800\n"
     ]
    }
   ],
   "source": [
    "num = 10\n",
    "value = 1\n",
    "for n in range(num,0,-1):\n",
    "    value *= n\n",
    "print(f\"{num}! = {value}\")"
   ]
  },
  {
   "cell_type": "markdown",
   "metadata": {},
   "source": [
    "- 재귀호출"
   ]
  },
  {
   "cell_type": "code",
   "execution_count": 16,
   "metadata": {},
   "outputs": [
    {
     "name": "stdout",
     "output_type": "stream",
     "text": [
      "10!= 3628800\n"
     ]
    }
   ],
   "source": [
    "def factorial(n):\n",
    "    if n <= 1: return 1\n",
    "\n",
    "    return n * factorial(n-1)\n",
    "factorial(10)\n",
    "\n",
    "print(f\"{num}!= {factorial(num)}\")\n",
    "        "
   ]
  }
 ],
 "metadata": {
  "kernelspec": {
   "display_name": "Python 3",
   "language": "python",
   "name": "python3"
  },
  "language_info": {
   "codemirror_mode": {
    "name": "ipython",
    "version": 3
   },
   "file_extension": ".py",
   "mimetype": "text/x-python",
   "name": "python",
   "nbconvert_exporter": "python",
   "pygments_lexer": "ipython3",
   "version": "3.11.9"
  }
 },
 "nbformat": 4,
 "nbformat_minor": 2
}
