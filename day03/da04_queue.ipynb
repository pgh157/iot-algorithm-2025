{
 "cells": [
  {
   "cell_type": "markdown",
   "metadata": {},
   "source": [
    "### Queue 큐\n",
    "<img src = \"    \"\n",
    "width = \"300\">\n",
    "\n",
    "- 입구와 출구가 정반대 위치한 데이터구조\n",
    "- 먼저 들어간 데이터가 먼저 나옴\n",
    "    - FIFO(First In First Out)\n",
    "- 동작\n",
    "    - enQueue : 데이터 삽입\n",
    "    - deQueue : 데이터 추출\n",
    "    - front : 맨앞 데이터\n",
    "    - rear : 맨뒤 데이터"
   ]
  }
 ],
 "metadata": {
  "language_info": {
   "name": "python"
  }
 },
 "nbformat": 4,
 "nbformat_minor": 2
}
